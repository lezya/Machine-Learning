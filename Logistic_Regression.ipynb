{
  "nbformat": 4,
  "nbformat_minor": 0,
  "metadata": {
    "colab": {
      "name": "Logistic Regression.ipynb",
      "provenance": [],
      "authorship_tag": "ABX9TyOsSTWUeD2avjZT/zdzp7xs",
      "include_colab_link": true
    },
    "kernelspec": {
      "name": "python3",
      "display_name": "Python 3"
    }
  },
  "cells": [
    {
      "cell_type": "markdown",
      "metadata": {
        "id": "view-in-github",
        "colab_type": "text"
      },
      "source": [
        "<a href=\"https://colab.research.google.com/github/lezya/Machine-Learning/blob/master/Logistic_Regression.ipynb\" target=\"_parent\"><img src=\"https://colab.research.google.com/assets/colab-badge.svg\" alt=\"Open In Colab\"/></a>"
      ]
    },
    {
      "cell_type": "code",
      "metadata": {
        "id": "ABvSrSkOhGND"
      },
      "source": [
        "#Imports\n",
        "import numpy as np\n",
        "from sklearn.model_selection import train_test_split\n",
        "from sklearn import datasets\n",
        "import matplotlib.pyplot as plt"
      ],
      "execution_count": 1,
      "outputs": []
    },
    {
      "cell_type": "code",
      "metadata": {
        "id": "Y0PkxtD3lPGf"
      },
      "source": [
        "class LogisticRegression:         \n",
        "\n",
        "  def __init__(self, learning_rate=0.001, n_iters=1000):\n",
        "    self.lr = learning_rate\n",
        "    self.n_iters = n_iters\n",
        "    self.weights = None\n",
        "    self.bias = None\n",
        "\n",
        "  def fit(self, X,y):\n",
        "      n_samples,n_features = X.shape\n",
        "\n",
        "      #Initialize the Parameters\n",
        "      self.weights = np.zeros(n_features)\n",
        "      self.bias = 0\n",
        "\n",
        "      #Gradient descent\n",
        "      for _ in range(self.n_iters):\n",
        "        y_predicted = np.dot(X, self.weights) + self.bias\n",
        "\n",
        "        #'computing the gradients based on above formulas'\n",
        "        dw = (1 / n_samples) * np.dot(X.T, (y_predicted - y))\n",
        "        db = (1 / n_samples) * np.sum(y_predicted - y)\n",
        "\n",
        "        #updating the weights and bias\n",
        "        self.weights -= self.lr*dw\n",
        "        self.bias -= self.lr*db\n",
        "\n",
        "  def predict(self, X):\n",
        "    y_linear_model = np.dot(X, self.weights) + self.bias\n",
        "    y_predicted = self._sigmoid(y_linear_model)\n",
        "    y_predicted_cls = [1 if i > 0.5 else 0 for i in y_predicted]\n",
        "    return y_predicted_cls\n",
        "\n",
        "  def _sigmoid(self, x):\n",
        "    return 1 / (1 + np.exp(-x))"
      ],
      "execution_count": 2,
      "outputs": []
    },
    {
      "cell_type": "code",
      "metadata": {
        "id": "2DgYlGyGl82b"
      },
      "source": [
        "def accuracy(y_true, y_pred):\n",
        "    accuracy = np.sum(y_true == y_pred) / len(y_true)\n",
        "    return accuracy"
      ],
      "execution_count": 3,
      "outputs": []
    },
    {
      "cell_type": "code",
      "metadata": {
        "id": "VuHGvuNAnmoQ"
      },
      "source": [
        "bc = datasets.load_breast_cancer()\n",
        "X, y = bc.data, bc.target\n",
        "X_train, X_test, y_train, y_test = train_test_split(X, y, test_size=0.2, random_state=1234)"
      ],
      "execution_count": 4,
      "outputs": []
    },
    {
      "cell_type": "code",
      "metadata": {
        "id": "Cpo5QsMxnr8_",
        "outputId": "1a2d752d-1d79-4acb-8d89-219f1216bd5a",
        "colab": {
          "base_uri": "https://localhost:8080/",
          "height": 50
        }
      },
      "source": [
        "regressor = LogisticRegression(learning_rate=0.0001, n_iters=10000)\n",
        "regressor.fit(X_train, y_train)\n",
        "predictions = regressor.predict(X_test)\n",
        "\n",
        "print(\"LR classification accuracy:\", accuracy(y_test, predictions))"
      ],
      "execution_count": 5,
      "outputs": [
        {
          "output_type": "stream",
          "text": [
            "/usr/local/lib/python3.6/dist-packages/ipykernel_launcher.py:25: RuntimeWarning: invalid value encountered in subtract\n"
          ],
          "name": "stderr"
        },
        {
          "output_type": "stream",
          "text": [
            "LR classification accuracy: 0.39473684210526316\n"
          ],
          "name": "stdout"
        }
      ]
    }
  ]
}