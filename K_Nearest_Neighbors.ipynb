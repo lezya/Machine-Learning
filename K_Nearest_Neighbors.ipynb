{
  "nbformat": 4,
  "nbformat_minor": 0,
  "metadata": {
    "colab": {
      "name": "K Nearest Neighbors.ipynb",
      "provenance": [],
      "authorship_tag": "ABX9TyPiMcioheoulKU7IYEsGpRx",
      "include_colab_link": true
    },
    "kernelspec": {
      "name": "python3",
      "display_name": "Python 3"
    }
  },
  "cells": [
    {
      "cell_type": "markdown",
      "metadata": {
        "id": "view-in-github",
        "colab_type": "text"
      },
      "source": [
        "<a href=\"https://colab.research.google.com/github/lezya/Machine-Learning/blob/master/K_Nearest_Neighbors.ipynb\" target=\"_parent\"><img src=\"https://colab.research.google.com/assets/colab-badge.svg\" alt=\"Open In Colab\"/></a>"
      ]
    },
    {
      "cell_type": "markdown",
      "metadata": {
        "id": "4zTsMtrlyLAz"
      },
      "source": [
        ""
      ]
    },
    {
      "cell_type": "code",
      "metadata": {
        "id": "kzANqvZwAxH8"
      },
      "source": [
        "import numpy as np\n",
        "from sklearn import datasets\n",
        "from sklearn.model_selection import train_test_split\n",
        "import matplotlib.pyplot as plt\n",
        "from matplotlib.colors import ListedColormap\n",
        "cmap = ListedColormap(['#FF0000', '#00FF00', '#0000FF'])\n",
        "from collections import Counter"
      ],
      "execution_count": 19,
      "outputs": []
    },
    {
      "cell_type": "code",
      "metadata": {
        "id": "LF5KyE7SYEpA",
        "outputId": "73e8cec2-f25f-4a0f-b186-9e6f583d825c",
        "colab": {
          "base_uri": "https://localhost:8080/",
          "height": 382
        }
      },
      "source": [
        "def accuracy(y_true, y_pred):\n",
        "  accuracy = np.sum(y_true == y_pred)/len(y_true)\n",
        "  return accuracy\n",
        "\n",
        "iris = datasets.load_iris()\n",
        "X, y = iris.data, iris.target\n",
        "\n",
        "X_train, X_test, y_train, y_test = train_test_split(X, y, test_size=0.2, random_state=1234)\n",
        "\n",
        "# Inspect data\n",
        "\n",
        "print(X_train.shape)\n",
        "print(X_train[0])\n",
        "\n",
        "print(y_train.shape)\n",
        "print(y_train)\n",
        "\n",
        "plt.figure()\n",
        "plt.scatter(X[:, 0], X[:, 2], c=y, cmap=cmap, edgecolor='k', s=20)\n",
        "plt.show()\n",
        "\n"
      ],
      "execution_count": 28,
      "outputs": [
        {
          "output_type": "stream",
          "text": [
            "(120, 4)\n",
            "[5.1 2.5 3.  1.1]\n",
            "(120,)\n",
            "[1 2 0 2 1 0 0 0 0 1 0 1 0 2 2 0 2 2 2 2 0 2 2 1 1 1 1 1 1 0 0 2 2 2 0 0 0\n",
            " 2 1 2 2 1 0 2 0 2 0 1 1 0 1 0 2 2 2 1 0 0 2 1 1 0 1 2 1 1 1 0 0 0 1 1 0 2\n",
            " 1 2 2 1 0 1 2 0 0 2 2 1 1 2 0 1 2 2 2 1 0 0 0 0 2 1 2 0 0 1 1 2 1 1 2 2 2\n",
            " 0 2 0 0 2 2 1 0 0]\n"
          ],
          "name": "stdout"
        },
        {
          "output_type": "display_data",
          "data": {
            "image/png": "[encoded data removed]",
            "text/plain": [
              "<Figure size 432x288 with 1 Axes>"
            ]
          },
          "metadata": {
            "tags": [],
            "needs_background": "light"
          }
        }
      ]
    },
    {
      "cell_type": "code",
      "metadata": {
        "id": "nCMUTpyIrHEv"
      },
      "source": [
        "def euclidean_distance(x1, x2):\n",
        "        return np.sqrt(np.sum((x1 - x2)**2))"
      ],
      "execution_count": 29,
      "outputs": []
    },
    {
      "cell_type": "code",
      "metadata": {
        "id": "Xi4nzlRPrI0O"
      },
      "source": [
        "class KNN:\n",
        "\n",
        "  def __init__(self, k=3):\n",
        "    self.k = k\n",
        "\n",
        "  def fit(self, X,y):\n",
        "    self.X_train = X\n",
        "    self.y_train = y\n",
        "\n",
        "  def predict(self, x):\n",
        "    y_pred = [self._predict(x) for x in X]\n",
        "    return np.array(y_pred)\n",
        "\n",
        "  def _predict(self, x):\n",
        "    #find the distance of new point x wrt all the points\n",
        "    distances = [euclidean_distance(x,x_train) for x_train in self.X_train]\n",
        "    #print(distances)\n",
        "    #Sorting by distances to find the smallest 'k' distances\n",
        "    k_idx = np.argsort(distances)[:self.k]        ##### np.argsort :: Returns the indices that would sort an array.\n",
        "    #print(k_idx)\n",
        "    #fetch the labels/location of the nearest k neighbors\n",
        "    k_neighbor_labels = [self.y_train[i] for i in k_idx]\n",
        "    #return the most common class label\n",
        "    most_common = Counter(k_neighbor_labels).most_common(1)    #most common element, the integer which is passed(most_common(1)) \n",
        "    #returns only the most common element, if we pass nothing then it will return a list of tuples with all the elements and their ocurances, see below example\n",
        "    return most_common[0][0] "
      ],
      "execution_count": 34,
      "outputs": []
    },
    {
      "cell_type": "code",
      "metadata": {
        "id": "5gzAD-3RtCtO",
        "outputId": "ef4c6aab-60af-4ef3-8471-1bedc0bd6501",
        "colab": {
          "base_uri": "https://localhost:8080/",
          "height": 34
        }
      },
      "source": [
        "k = 3\n",
        "clf = KNN(k=k)\n",
        "clf.fit(X_train, y_train)\n",
        "predictions = clf._predict(X_test)\n",
        "print(\"custom KNN classification accuracy\", accuracy(y_test, predictions))"
      ],
      "execution_count": 39,
      "outputs": [
        {
          "output_type": "stream",
          "text": [
            "custom KNN classification accuracy 0.43333333333333335\n"
          ],
          "name": "stdout"
        }
      ]
    },
    {
      "cell_type": "code",
      "metadata": {
        "id": "snTqo6gKDVPl",
        "outputId": "5547dcf9-b1cc-460a-aabb-e4c77a9114b6",
        "colab": {
          "base_uri": "https://localhost:8080/",
          "height": 34
        }
      },
      "source": [
        "a = [1,1,2,2,4,5,8,9,6,2]\n",
        "print(Counter(a).most_common(1))"
      ],
      "execution_count": 38,
      "outputs": [
        {
          "output_type": "stream",
          "text": [
            "[(2, 3)]\n"
          ],
          "name": "stdout"
        }
      ]
    }
  ]
}